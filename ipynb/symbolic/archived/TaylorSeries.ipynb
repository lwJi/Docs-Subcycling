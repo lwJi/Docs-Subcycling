{
 "cells": [
  {
   "cell_type": "code",
   "execution_count": 1,
   "id": "3955fb95-7c6f-4c1d-a70a-fa19d3cca134",
   "metadata": {},
   "outputs": [],
   "source": [
    "using Symbolics"
   ]
  },
  {
   "cell_type": "code",
   "execution_count": 2,
   "id": "381d2626-b2c6-4d18-817e-0f3a4807eaef",
   "metadata": {},
   "outputs": [
    {
     "data": {
      "text/plain": [
       "3-element Vector{Any}:\n",
       "   y⋆\n",
       "  t\n",
       " t0"
      ]
     },
     "execution_count": 2,
     "metadata": {},
     "output_type": "execute_result"
    }
   ],
   "source": [
    "@variables y(..), t, t0"
   ]
  },
  {
   "cell_type": "code",
   "execution_count": 4,
   "id": "68402273-74c4-43b3-b574-7b3046c625dc",
   "metadata": {},
   "outputs": [
    {
     "data": {
      "text/latex": [
       "$$ \\begin{equation}\n",
       "\\frac{\\mathrm{d} y\\left( t \\right)}{\\mathrm{d}t}\n",
       "\\end{equation}\n",
       " $$"
      ],
      "text/plain": [
       "Differential(t)(y(t))"
      ]
     },
     "execution_count": 4,
     "metadata": {},
     "output_type": "execute_result"
    }
   ],
   "source": [
    "(Differential(t))(y(t))"
   ]
  },
  {
   "cell_type": "code",
   "execution_count": 16,
   "id": "0f6ccc9f-75f0-4d5d-8824-fc316f8e3dbd",
   "metadata": {},
   "outputs": [
    {
     "data": {
      "text/plain": [
       "Series (generic function with 1 method)"
      ]
     },
     "execution_count": 16,
     "metadata": {},
     "output_type": "execute_result"
    }
   ],
   "source": [
    "function Series(y, t, t0, ord)\n",
    "    Dt = Differential(t)\n",
    "    return y(t0) + sum((Dt^i)(y(t0))/factorial(i)*(t-t0) for i in 1:ord)\n",
    "end"
   ]
  },
  {
   "cell_type": "code",
   "execution_count": 20,
   "id": "6fe8634b-4368-4181-9c7b-67404461acee",
   "metadata": {},
   "outputs": [
    {
     "data": {
      "text/latex": [
       "$$ \\begin{equation}\n",
       "y\\left( t0 \\right) + \\frac{1}{6} \\left( t - t0 \\right) \\frac{\\mathrm{d}}{\\mathrm{d}t} \\frac{\\mathrm{d}}{\\mathrm{d}t} \\frac{\\mathrm{d} y\\left( t0 \\right)}{\\mathrm{d}t} + \\left( t - t0 \\right) \\frac{\\mathrm{d} y\\left( t0 \\right)}{\\mathrm{d}t} + \\frac{1}{2} \\left( t - t0 \\right) \\frac{\\mathrm{d}}{\\mathrm{d}t} \\frac{\\mathrm{d} y\\left( t0 \\right)}{\\mathrm{d}t}\n",
       "\\end{equation}\n",
       " $$"
      ],
      "text/plain": [
       "y(t0) + (1//6)*(t - t0)*Differential(t)(Differential(t)(Differential(t)(y(t0)))) + (t - t0)*Differential(t)(y(t0)) + (1//2)*(t - t0)*Differential(t)(Differential(t)(y(t0)))"
      ]
     },
     "execution_count": 20,
     "metadata": {},
     "output_type": "execute_result"
    }
   ],
   "source": [
    "Series(y, t, t0, 3)"
   ]
  }
 ],
 "metadata": {
  "kernelspec": {
   "display_name": "Julia 1.9.4",
   "language": "julia",
   "name": "julia-1.9"
  },
  "language_info": {
   "file_extension": ".jl",
   "mimetype": "application/julia",
   "name": "julia",
   "version": "1.9.4"
  }
 },
 "nbformat": 4,
 "nbformat_minor": 5
}
