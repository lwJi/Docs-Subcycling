{
 "cells": [
  {
   "cell_type": "code",
   "execution_count": 1,
   "id": "7c1760e8-7bb1-44c3-bef9-345ac2b1c70d",
   "metadata": {},
   "outputs": [],
   "source": [
    "using Symbolics"
   ]
  },
  {
   "cell_type": "code",
   "execution_count": 6,
   "id": "ba5090de-af92-4e0b-b9df-cddec2805622",
   "metadata": {},
   "outputs": [
    {
     "data": {
      "text/plain": [
       "4-element Vector{Any}:\n",
       " y_n\n",
       "    c[4]\n",
       "    a[3,4]\n",
       "   h"
      ]
     },
     "execution_count": 6,
     "metadata": {},
     "output_type": "execute_result"
    }
   ],
   "source": [
    "@variables y_n, c[4], a[3,4], h"
   ]
  },
  {
   "cell_type": "code",
   "execution_count": 3,
   "id": "3d7e9b80-b9cd-4757-9b61-5f12a2a96632",
   "metadata": {},
   "outputs": [
    {
     "data": {
      "text/latex": [
       "$$ \\begin{equation}\n",
       "c_1\n",
       "\\end{equation}\n",
       " $$"
      ],
      "text/plain": [
       "c[1]"
      ]
     },
     "execution_count": 3,
     "metadata": {},
     "output_type": "execute_result"
    }
   ],
   "source": [
    "c[1]"
   ]
  },
  {
   "cell_type": "code",
   "execution_count": 4,
   "id": "f482c209-b2f8-4e16-bad7-c44e8431d15a",
   "metadata": {},
   "outputs": [
    {
     "data": {
      "text/latex": [
       "$$ \\begin{equation}\n",
       "a_{1}ˏ_2\n",
       "\\end{equation}\n",
       " $$"
      ],
      "text/plain": [
       "a[1, 2]"
      ]
     },
     "execution_count": 4,
     "metadata": {},
     "output_type": "execute_result"
    }
   ],
   "source": [
    "a[1,2]"
   ]
  },
  {
   "cell_type": "code",
   "execution_count": 7,
   "id": "51eee427-0491-447e-a65b-56742d95c166",
   "metadata": {},
   "outputs": [
    {
     "data": {
      "text/latex": [
       "$$ \\begin{equation}\n",
       "y_{n}\n",
       "\\end{equation}\n",
       " $$"
      ],
      "text/plain": [
       "y_n"
      ]
     },
     "execution_count": 7,
     "metadata": {},
     "output_type": "execute_result"
    }
   ],
   "source": [
    "y_n"
   ]
  },
  {
   "cell_type": "code",
   "execution_count": null,
   "id": "cce3a8ad-05fb-4853-b3c0-e59ebb98c50b",
   "metadata": {},
   "outputs": [],
   "source": [
    "y_n"
   ]
  },
  {
   "cell_type": "code",
   "execution_count": null,
   "id": "d9eb61c8-da0d-4684-8838-d07cf812edbe",
   "metadata": {},
   "outputs": [],
   "source": [
    "taylor(f::Function, ord)"
   ]
  },
  {
   "cell_type": "code",
   "execution_count": 8,
   "id": "eb6705b4-5bc7-483e-b33e-969a67e8357b",
   "metadata": {},
   "outputs": [
    {
     "name": "stdout",
     "output_type": "stream",
     "text": [
      "search: \u001b[0m\u001b[1me\u001b[22m\u001b[0m\u001b[1mn\u001b[22m\u001b[0m\u001b[1mu\u001b[22m\u001b[0m\u001b[1mm\u001b[22m\u001b[0m\u001b[1me\u001b[22m\u001b[0m\u001b[1mr\u001b[22m\u001b[0m\u001b[1ma\u001b[22m\u001b[0m\u001b[1mt\u001b[22m\u001b[0m\u001b[1me\u001b[22m\n",
      "\n"
     ]
    },
    {
     "data": {
      "text/latex": [
       "\\begin{verbatim}\n",
       "enumerate(iter)\n",
       "\\end{verbatim}\n",
       "An iterator that yields \\texttt{(i, x)} where \\texttt{i} is a counter starting at 1, and \\texttt{x} is the \\texttt{i}th value from the given iterator. It's useful when you need not only the values \\texttt{x} over which you are iterating, but also the number of iterations so far.\n",
       "\n",
       "Note that \\texttt{i} may not be valid for indexing \\texttt{iter}, or may index a different element. This will happen if \\texttt{iter} has indices that do not start at 1, and may happen for strings, dictionaries, etc. See the \\texttt{pairs(IndexLinear(), iter)} method if you want to ensure that \\texttt{i} is an index.\n",
       "\n",
       "\\section{Examples}\n",
       "\\begin{verbatim}\n",
       "julia> a = [\"a\", \"b\", \"c\"];\n",
       "\n",
       "julia> for (index, value) in enumerate(a)\n",
       "           println(\"$index $value\")\n",
       "       end\n",
       "1 a\n",
       "2 b\n",
       "3 c\n",
       "\n",
       "julia> str = \"naïve\";\n",
       "\n",
       "julia> for (i, val) in enumerate(str)\n",
       "           print(\"i = \", i, \", val = \", val, \", \")\n",
       "           try @show(str[i]) catch e println(e) end\n",
       "       end\n",
       "i = 1, val = n, str[i] = 'n'\n",
       "i = 2, val = a, str[i] = 'a'\n",
       "i = 3, val = ï, str[i] = 'ï'\n",
       "i = 4, val = v, StringIndexError(\"naïve\", 4)\n",
       "i = 5, val = e, str[i] = 'v'\n",
       "\\end{verbatim}\n"
      ],
      "text/markdown": [
       "```\n",
       "enumerate(iter)\n",
       "```\n",
       "\n",
       "An iterator that yields `(i, x)` where `i` is a counter starting at 1, and `x` is the `i`th value from the given iterator. It's useful when you need not only the values `x` over which you are iterating, but also the number of iterations so far.\n",
       "\n",
       "Note that `i` may not be valid for indexing `iter`, or may index a different element. This will happen if `iter` has indices that do not start at 1, and may happen for strings, dictionaries, etc. See the `pairs(IndexLinear(), iter)` method if you want to ensure that `i` is an index.\n",
       "\n",
       "# Examples\n",
       "\n",
       "```jldoctest\n",
       "julia> a = [\"a\", \"b\", \"c\"];\n",
       "\n",
       "julia> for (index, value) in enumerate(a)\n",
       "           println(\"$index $value\")\n",
       "       end\n",
       "1 a\n",
       "2 b\n",
       "3 c\n",
       "\n",
       "julia> str = \"naïve\";\n",
       "\n",
       "julia> for (i, val) in enumerate(str)\n",
       "           print(\"i = \", i, \", val = \", val, \", \")\n",
       "           try @show(str[i]) catch e println(e) end\n",
       "       end\n",
       "i = 1, val = n, str[i] = 'n'\n",
       "i = 2, val = a, str[i] = 'a'\n",
       "i = 3, val = ï, str[i] = 'ï'\n",
       "i = 4, val = v, StringIndexError(\"naïve\", 4)\n",
       "i = 5, val = e, str[i] = 'v'\n",
       "```\n"
      ],
      "text/plain": [
       "\u001b[36m  enumerate(iter)\u001b[39m\n",
       "\n",
       "  An iterator that yields \u001b[36m(i, x)\u001b[39m where \u001b[36mi\u001b[39m is a counter starting at 1, and \u001b[36mx\u001b[39m is\n",
       "  the \u001b[36mi\u001b[39mth value from the given iterator. It's useful when you need not only\n",
       "  the values \u001b[36mx\u001b[39m over which you are iterating, but also the number of iterations\n",
       "  so far.\n",
       "\n",
       "  Note that \u001b[36mi\u001b[39m may not be valid for indexing \u001b[36miter\u001b[39m, or may index a different\n",
       "  element. This will happen if \u001b[36miter\u001b[39m has indices that do not start at 1, and\n",
       "  may happen for strings, dictionaries, etc. See the \u001b[36mpairs(IndexLinear(),\n",
       "  iter)\u001b[39m method if you want to ensure that \u001b[36mi\u001b[39m is an index.\n",
       "\n",
       "\u001b[1m  Examples\u001b[22m\n",
       "\u001b[1m  ≡≡≡≡≡≡≡≡≡≡\u001b[22m\n",
       "\n",
       "\u001b[36m  julia> a = [\"a\", \"b\", \"c\"];\u001b[39m\n",
       "\u001b[36m  \u001b[39m\n",
       "\u001b[36m  julia> for (index, value) in enumerate(a)\u001b[39m\n",
       "\u001b[36m             println(\"$index $value\")\u001b[39m\n",
       "\u001b[36m         end\u001b[39m\n",
       "\u001b[36m  1 a\u001b[39m\n",
       "\u001b[36m  2 b\u001b[39m\n",
       "\u001b[36m  3 c\u001b[39m\n",
       "\u001b[36m  \u001b[39m\n",
       "\u001b[36m  julia> str = \"naïve\";\u001b[39m\n",
       "\u001b[36m  \u001b[39m\n",
       "\u001b[36m  julia> for (i, val) in enumerate(str)\u001b[39m\n",
       "\u001b[36m             print(\"i = \", i, \", val = \", val, \", \")\u001b[39m\n",
       "\u001b[36m             try @show(str[i]) catch e println(e) end\u001b[39m\n",
       "\u001b[36m         end\u001b[39m\n",
       "\u001b[36m  i = 1, val = n, str[i] = 'n'\u001b[39m\n",
       "\u001b[36m  i = 2, val = a, str[i] = 'a'\u001b[39m\n",
       "\u001b[36m  i = 3, val = ï, str[i] = 'ï'\u001b[39m\n",
       "\u001b[36m  i = 4, val = v, StringIndexError(\"naïve\", 4)\u001b[39m\n",
       "\u001b[36m  i = 5, val = e, str[i] = 'v'\u001b[39m"
      ]
     },
     "execution_count": 8,
     "metadata": {},
     "output_type": "execute_result"
    }
   ],
   "source": [
    "?enumerate"
   ]
  },
  {
   "cell_type": "code",
   "execution_count": null,
   "id": "d5409afc-d0b0-4967-ab9b-bd154bdb3af7",
   "metadata": {},
   "outputs": [],
   "source": []
  }
 ],
 "metadata": {
  "kernelspec": {
   "display_name": "Julia 1.9.4",
   "language": "julia",
   "name": "julia-1.9"
  },
  "language_info": {
   "file_extension": ".jl",
   "mimetype": "application/julia",
   "name": "julia",
   "version": "1.9.4"
  }
 },
 "nbformat": 4,
 "nbformat_minor": 5
}
