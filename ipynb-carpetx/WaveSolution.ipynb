{
 "cells": [
  {
   "cell_type": "code",
   "execution_count": 1,
   "id": "c91401f1-785c-4a93-bf08-b4edec99c9b5",
   "metadata": {},
   "outputs": [
    {
     "data": {
      "text/html": [
       "<div><img alt=\"Output\" src=\"data:image/png;base64,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\"></div>"
      ],
      "text/plain": [
       "    A\n",
       "----------\n",
       "  2     2\n",
       " v /(2 W )\n",
       "E"
      ]
     },
     "execution_count": 1,
     "metadata": {
      "text/html": [],
      "text/plain": []
     },
     "output_type": "execute_result"
    }
   ],
   "source": [
    "f[v_] = A Exp[-v^2/(2 W^2)]"
   ]
  },
  {
   "cell_type": "code",
   "execution_count": 2,
   "id": "78be336b-2a76-4e12-9a23-2a5c7a8b2455",
   "metadata": {},
   "outputs": [],
   "source": [
    "u[t_,x_,y_,z_]:=Module[{r},\n",
    "    r = Sqrt[x^2+y^2+z^2];\n",
    "    (f[t-r]-f[t+r])/r\n",
    "];\n",
    "rho[t_,x_,y_,z_]:=Module[{r},\n",
    "    r = Sqrt[x^2+y^2+z^2];\n",
    "    -(f[t-r] (t-r) - f[t+r] (t+r)) / (W^2 r)\n",
    "];"
   ]
  },
  {
   "cell_type": "code",
   "execution_count": 4,
   "id": "a892bf35-21c5-487d-b167-38071cac2b22",
   "metadata": {},
   "outputs": [],
   "source": [
    "cndR:={x^2+y^2+z^2->R^2, -x^2-y^2-z^2->-R^2}"
   ]
  },
  {
   "cell_type": "markdown",
   "id": "cccb9988-1e68-4f29-8043-7ff9409e7932",
   "metadata": {},
   "source": [
    "$\\dot{u} = \\rho$"
   ]
  },
  {
   "cell_type": "code",
   "execution_count": 5,
   "id": "0eb7bbc2-a7bf-4342-8dd3-e60f5d34deef",
   "metadata": {},
   "outputs": [
    {
     "data": {
      "text/html": [
       "<div><pre style=\"&#102;&#111;&#110;&#116;&#45;&#102;&#97;&#109;&#105;&#108;&#121;&#58;&#32;&#34;&#67;&#111;&#117;&#114;&#105;&#101;&#114;&#32;&#78;&#101;&#119;&#34;&#44;&#67;&#111;&#117;&#114;&#105;&#101;&#114;&#44;&#109;&#111;&#110;&#111;&#115;&#112;&#97;&#99;&#101;&#59;\">&#48;</pre></div>"
      ],
      "text/plain": [
       "0"
      ]
     },
     "execution_count": 5,
     "metadata": {
      "text/html": [],
      "text/plain": []
     },
     "output_type": "execute_result"
    }
   ],
   "source": [
    "D[u[t,x,y,z],t]-rho[t,x,y,z]//Simplify"
   ]
  },
  {
   "cell_type": "markdown",
   "id": "e9e38589-ebf4-4d97-ba11-07233a7c221f",
   "metadata": {},
   "source": [
    "$\\dot{\\rho}=u_{xx}+u_{yy}+u_{zz}$"
   ]
  },
  {
   "cell_type": "code",
   "execution_count": 6,
   "id": "0ef7d693-c66d-439f-9905-a14f454f1c3b",
   "metadata": {},
   "outputs": [
    {
     "data": {
      "text/html": [
       "<div><pre style=\"&#102;&#111;&#110;&#116;&#45;&#102;&#97;&#109;&#105;&#108;&#121;&#58;&#32;&#34;&#67;&#111;&#117;&#114;&#105;&#101;&#114;&#32;&#78;&#101;&#119;&#34;&#44;&#67;&#111;&#117;&#114;&#105;&#101;&#114;&#44;&#109;&#111;&#110;&#111;&#115;&#112;&#97;&#99;&#101;&#59;\">&#48;</pre></div>"
      ],
      "text/plain": [
       "0"
      ]
     },
     "execution_count": 6,
     "metadata": {
      "text/html": [],
      "text/plain": []
     },
     "output_type": "execute_result"
    }
   ],
   "source": [
    "(Refine[(D[rho[t,x,y,z],t]-(D[u[t,x,y,z],{x,2}]+D[u[t,x,y,z],{y,2}]+D[u[t,x,y,z],{z,2}]))/.cndR, R>0]//Expand//Simplify)/.cndR"
   ]
  }
 ],
 "metadata": {
  "kernelspec": {
   "display_name": "Wolfram Language 13.2",
   "language": "Wolfram Language",
   "name": "wolframlanguage13.2"
  },
  "language_info": {
   "codemirror_mode": "mathematica",
   "file_extension": ".m",
   "mimetype": "application/vnd.wolfram.m",
   "name": "Wolfram Language",
   "pygments_lexer": "mathematica",
   "version": "12.0"
  }
 },
 "nbformat": 4,
 "nbformat_minor": 5
}
